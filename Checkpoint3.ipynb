{
  "nbformat": 4,
  "nbformat_minor": 0,
  "metadata": {
    "colab": {
      "name": "Checkpoint3",
      "provenance": []
    },
    "kernelspec": {
      "name": "python3",
      "display_name": "Python 3"
    },
    "language_info": {
      "name": "python"
    }
  },
  "cells": [
    {
      "cell_type": "code",
      "execution_count": 4,
      "metadata": {
        "colab": {
          "base_uri": "https://localhost:8080/"
        },
        "id": "TyTCcpI9r5AD",
        "outputId": "9bf962cd-4093-4969-b0f5-f0991566c3a6"
      },
      "outputs": [
        {
          "output_type": "stream",
          "name": "stdout",
          "text": [
            "36\n"
          ]
        }
      ],
      "source": [
        "#Question1\n",
        "Liste=[2,6,3]\n",
        "m=1 # Affecter a la variable m l'element neutre de la multiplication\n",
        "for i in Liste :\n",
        "  m=m*i\n",
        "print(m) # Ne pas inclure le print a la boucle for, sinon on aura la liste des changements non pas le resultat final"
      ]
    },
    {
      "cell_type": "code",
      "source": [
        "#Question2\n",
        "New_list = [(2,5),(1,2),(4,4),(2,3),(2,1)]\n",
        "New_list.sort() # la fonction sort sert a ordonner les elements du plus petit au plus grand \n",
        "print(New_list)"
      ],
      "metadata": {
        "colab": {
          "base_uri": "https://localhost:8080/"
        },
        "id": "-UQo1vxRYKio",
        "outputId": "c4a68d2f-89d2-4a70-9e94-93c81fae014a"
      },
      "execution_count": null,
      "outputs": [
        {
          "output_type": "stream",
          "name": "stdout",
          "text": [
            "[(1, 2), (2, 1), (2, 3), (2, 5), (4, 4)]\n"
          ]
        }
      ]
    },
    {
      "cell_type": "code",
      "source": [
        "#Question3\n",
        "d1={\"a\":100,\"b\":200,\"c\":300}\n",
        "d2={\"a\":300,\"b\":200,\"d\":400}\n",
        "d3={}\n",
        "for key in d1.keys():\n",
        "  if key in d2.keys():\n",
        "    d3[key]=d1[key]+d2[key] # key2 n'est pas encore mentionnée \n",
        "  elif key not in d2.keys():\n",
        "    d3[key]=d1[key]\n",
        "for key2 in d2.keys():\n",
        "  if key2 not in d1.keys():\n",
        "    d3[key2]=d2[key2]\n",
        "print(d3)"
      ],
      "metadata": {
        "id": "I8hA4SgDZOZX",
        "colab": {
          "base_uri": "https://localhost:8080/"
        },
        "outputId": "4062aecb-1d16-42a8-9399-2c78e28ed7ae"
      },
      "execution_count": 2,
      "outputs": [
        {
          "output_type": "stream",
          "name": "stdout",
          "text": [
            "{'a': 400, 'b': 400, 'c': 300, 'd': 400}\n"
          ]
        }
      ]
    },
    {
      "cell_type": "code",
      "source": [
        "#Question4\n",
        "dict={}\n",
        "N = int(input(\"Entrez le dernier element de votre liste de clés:\"))\n",
        "for c in range(1,N+1): # Meme en mettant 1 au debut, la derniere valeur n'est toujours pas prise en compte, that's why we put N+1\n",
        "  dict[c]=c**2\n",
        "print(dict)\n"
      ],
      "metadata": {
        "colab": {
          "base_uri": "https://localhost:8080/"
        },
        "id": "8qwgOc7N2InF",
        "outputId": "4a77e2b5-781d-4b8e-e152-4936730f2592"
      },
      "execution_count": 5,
      "outputs": [
        {
          "output_type": "stream",
          "name": "stdout",
          "text": [
            "Entrez le dernier element de votre liste de clés:10\n",
            "{1: 1, 2: 4, 3: 9, 4: 16, 5: 25, 6: 36, 7: 49, 8: 64, 9: 81, 10: 100}\n"
          ]
        }
      ]
    },
    {
      "cell_type": "code",
      "source": [
        "#Question5\n",
        "My_list=[(\"item1\",\"12.20\"),(\"item2\",\"15.10\"),(\"item3\",\"24.5\")]\n",
        "My_list.sort(reverse=True) # Pour inverser l'ordre des elements \"de la fin au debut\"\n",
        "print(My_list)"
      ],
      "metadata": {
        "colab": {
          "base_uri": "https://localhost:8080/"
        },
        "id": "V9zgDJZh3tTq",
        "outputId": "e692f6c4-4674-44ce-e3c5-f23322983cfc"
      },
      "execution_count": 6,
      "outputs": [
        {
          "output_type": "stream",
          "name": "stdout",
          "text": [
            "[('item3', '24.5'), ('item2', '15.10'), ('item1', '12.20')]\n"
          ]
        }
      ]
    }
  ]
}